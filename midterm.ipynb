{
 "cells": [
  {
   "cell_type": "markdown",
   "metadata": {},
   "source": [
    "# Midterm mini-project\n",
    "\n",
    "**Due Friday, May 15.**\n",
    "\n",
    "Gideon Kinzie Hawver\n",
    "\n",
    "### Checklist\n",
    "\n",
    "Before submitting, make sure that your report\n",
    "\n",
    "- Introduces a computational topic or method  \n",
    "- Provides background: what kind of problem is this meant to solve?  \n",
    "- Explains the topic/method: how does it work (in words and possibly in equations, as appropriate)?  \n",
    "- Gives an example application: if the project is focused on a particular type of problem, where is this problem encountered? If it is focused on a method, in what situations is the method useful?  \n",
    "- Is $\\approx 500$ words in length (a little less is fine as long as you hit the main points, and more is also okay)  \n",
    "\n",
    "Optionally, you can also include a worked example in Python. \n",
    "\n",
    "And as always, make sure to\n",
    "\n",
    "- Fill in your name above  \n",
    "- Cite any resources that you used while working on this assignment"
   ]
  },
  {
   "cell_type": "markdown",
   "metadata": {},
   "source": [
    "## Topological Data Analysis\n",
    "\n",
    "![alt text](https://miro.medium.com/max/1000/1*09JTiIzQEiutjrSAAN_Sfg.png)\n",
    "Image of a simplical complex courtesy of [Towards Data Science](https://towardsdatascience.com/topological-data-analysis-unpacking-the-buzzword-2fab3bb63120)\n",
    "\n",
    "\n",
    "#### INTRODUCTION\n",
    "The first time that I ever heard the term “Topological Data Analysis” I was listening to a course-mate reading off job postings from the JPL hiring website. We were attending a week-long seminar on data science put on by faculty of the Physics department at UCR. I was enrolled in an introductory topology course (Math 145A) at the time and wondered what the intersection between pure maths and data science could possibly look like.\n",
    "\n",
    "I don’t have the math background necessary to completely understand a lot of the theory behind TDA, but its general structure can be grasped by almost anyone.\n",
    "\n",
    "#### TDA SIMPLIFIED\n",
    "Topology is an extension of set theory and concerns itself with the shape and behaviour of an object as defined by a set of elements within that object’s domain. It is important to note that Topology commonly addresses “objects” in higher dimensions. This high dimensional aspect might sound vague and complicated, but we deal with higher dimensions on a daily basis. While it is common to think of the three spatial dimensions when we hear the term “dimension” it is important to understand that a dimension can simply be a distinct field of measure. Height is a dimension, but so is weight, and age. Most data that we find ourselves presented with has high dimensionality. For example, census data has hundreds of dimensions. A bank of census data contains fields such as name, address, age, number of household occupants, gender, race, and so on. Each of these fields is a dimension that can hold a value from a range of possible values (either discrete or continuous).\n",
    "\n",
    "The purpose of data science and data analysis is to provide significant insights into data sets -- often large data sets -- using various methods. TDA does this by looking at the shape of data. Towards Data Science has an excellent article (Zachary Singer, 2019) that gives a brief synopsis of the method. In his example, Singer looks at a two dimensional data set and asks if the data has a pattern embedded in it - specifically that of a circle. To do so, he sets a distance value and draws a circle around each data point within the space with a radius of the chosen distance. When circles intersect lines are drawn to show their connectedness. These circles are often referred to as “neighborhoods” in Topology. In TDA, intersecting neighborhoods signify a relation between data points. So the choice of the distance defining the boundaries of your neighborhoods is ultimately what determines the output of your analysis. If you choose a neighborhood that is too large, then your data looks homogenous. If you choose a neighborhood that is too small, then your data appears completely disconnected.\n",
    "\n",
    "So what? Who cares? What’s the big deal if you can identify a circle in a data set? Well, we have actually worked with a famous mathematical modeling problem in class already that cares about the presence of connected cycles. In the Wikipedia article on TDA, the Lotka-Volterra equations are referenced as an excellent illustration of how TDA can identify significant objects in a data space. We can easily imagine a scenario in which we are given a data set concerning predator and prey populations and using the neighborhoods method described above to tease out the existence of their cyclical relationship. This does not automatically provide us with the differential equations which model their behavior, but it gives us the first significant step into identifying valuable patterns in the data.\n",
    "\n",
    "#### WORK-FLOW\n",
    "According to the article “An introduction to [TDA]: fundamental and practical aspects for data scientists” (Chazal & Michel, 2017) the pipeline of TDA has four layers: input data, initial covering, shape identification, and data review.\n",
    "\n",
    "The input data, sometimes referred to as a point cloud, is a set of elements with some definition of distance between them. This is a concept in topology called a metric space, where a distance function is part of the definition between any two points in a set of elements within the space. This “metric” is given, defined alongside the data.\n",
    "\n",
    "Using the given metric, a “simplical complex” (a continuous shape) is built as an initial covering on the data. In the example provided by the Towards Data Science article, this was the process of connecting neighborhoods which gave Singer the circular shape of his data.\n",
    "\n",
    "We then extract some geometric information from the initial covering in an attempt to identify the shape of the data. This step can be extensive, as shape features rely heavily on their point cloud constituents (e.g. the difference between a triangle and a square is only one (well positioned) data point) and the neighborhoods we choose.\n",
    "\n",
    "Finally, you analyze and communicate the output data. It is important to understand that TDA is not necessarily a stand-alone process in data science. It is most effectively used alongside statistical methods in order to interpret data. However, TDA does provide a unique method of visualizing data -- specifically, the shape of data --, which is alway a significant interest in data science.\n",
    "\n",
    "#### REFERENCES\n",
    "* https://en.wikipedia.org/wiki/Topological_data_analysis\n",
    "* https://towardsdatascience.com/topological-data-analysis-unpacking-the-buzzword-2fab3bb63120\n",
    "* https://www.youtube.com/watch?v=h0bnG1Wavag\n",
    "* https://www.cs.cmu.edu/~kmcrane/Projects/DDG/paper.pdf\n",
    "* https://arxiv.org/pdf/1710.04019.pdf\n",
    "\n",
    "\n",
    "And some text. Fill this in to complete your report. Feel free to add code and Markdown cells as needed. As a reminder, here's a [guide](https://github.com/adam-p/markdown-here/wiki/Markdown-Cheatsheet) to some common Markdown notation that you can use to format your report."
   ]
  },
  {
   "cell_type": "code",
   "execution_count": null,
   "metadata": {},
   "outputs": [],
   "source": []
  }
 ],
 "metadata": {
  "kernelspec": {
   "display_name": "Python 3",
   "language": "python",
   "name": "python3"
  },
  "language_info": {
   "codemirror_mode": {
    "name": "ipython",
    "version": 3
   },
   "file_extension": ".py",
   "mimetype": "text/x-python",
   "name": "python",
   "nbconvert_exporter": "python",
   "pygments_lexer": "ipython3",
   "version": "3.7.4"
  },
  "toc": {
   "base_numbering": 1,
   "nav_menu": {},
   "number_sections": true,
   "sideBar": true,
   "skip_h1_title": false,
   "title_cell": "Table of Contents",
   "title_sidebar": "Contents",
   "toc_cell": false,
   "toc_position": {},
   "toc_section_display": true,
   "toc_window_display": false
  }
 },
 "nbformat": 4,
 "nbformat_minor": 2
}
